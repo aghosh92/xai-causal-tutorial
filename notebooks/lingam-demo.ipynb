{
  "nbformat": 4,
  "nbformat_minor": 0,
  "metadata": {
    "colab": {
      "provenance": []
    },
    "kernelspec": {
      "name": "python3",
      "display_name": "Python 3"
    },
    "language_info": {
      "name": "python"
    }
  },
  "cells": [
    {
      "cell_type": "markdown",
      "source": [
        "# **Linear Non-Gaussian Acyclic Model**\n",
        "\n",
        "### Prepared by Ayana Ghosh, Email: research.aghosh@gmail.com\n",
        "\n",
        "\n",
        "\n",
        "## Assumptions\n",
        "\n",
        "\n",
        "### Linearity, Non-Gaussian continuous error variables (except at most one), Acyclicity and No hidden common causes\n",
        "\n",
        "\n",
        "\n",
        "## Under these assumptions :\n",
        "### x = Ax + e where A is the adjacency matrix (lower-triangular like), x are the observed variables\n",
        "\n",
        "\n",
        "\n",
        "\n",
        "\n",
        "\n",
        "\n",
        "\n",
        "\n",
        "\n",
        "\n"
      ],
      "metadata": {
        "id": "vSs_DMN6xj_M"
      }
    },
    {
      "cell_type": "markdown",
      "source": [
        "Install packages"
      ],
      "metadata": {
        "id": "pp3USc4ra2gV"
      }
    },
    {
      "cell_type": "code",
      "execution_count": null,
      "metadata": {
        "id": "hPfwUILk84PR",
        "colab": {
          "base_uri": "https://localhost:8080/"
        },
        "outputId": "7b79ca42-4bb5-43d7-b9f2-628d8a3ac23a"
      },
      "outputs": [
        {
          "output_type": "stream",
          "name": "stdout",
          "text": [
            "Collecting lingam\n",
            "  Downloading lingam-1.9.0-py3-none-any.whl (100 kB)\n",
            "\u001b[2K     \u001b[90m━━━━━━━━━━━━━━━━━━━━━━━━━━━━━━━━━━━━━━━━\u001b[0m \u001b[32m100.7/100.7 kB\u001b[0m \u001b[31m807.9 kB/s\u001b[0m eta \u001b[36m0:00:00\u001b[0m\n",
            "\u001b[?25hRequirement already satisfied: numpy in /usr/local/lib/python3.10/dist-packages (from lingam) (1.25.2)\n",
            "Requirement already satisfied: scipy in /usr/local/lib/python3.10/dist-packages (from lingam) (1.11.4)\n",
            "Requirement already satisfied: scikit-learn in /usr/local/lib/python3.10/dist-packages (from lingam) (1.2.2)\n",
            "Requirement already satisfied: graphviz in /usr/local/lib/python3.10/dist-packages (from lingam) (0.20.3)\n",
            "Requirement already satisfied: statsmodels in /usr/local/lib/python3.10/dist-packages (from lingam) (0.14.2)\n",
            "Requirement already satisfied: networkx in /usr/local/lib/python3.10/dist-packages (from lingam) (3.3)\n",
            "Requirement already satisfied: pandas in /usr/local/lib/python3.10/dist-packages (from lingam) (2.0.3)\n",
            "Collecting pygam (from lingam)\n",
            "  Downloading pygam-0.9.1-py3-none-any.whl (522 kB)\n",
            "\u001b[2K     \u001b[90m━━━━━━━━━━━━━━━━━━━━━━━━━━━━━━━━━━━━━━━━\u001b[0m \u001b[32m522.0/522.0 kB\u001b[0m \u001b[31m5.9 MB/s\u001b[0m eta \u001b[36m0:00:00\u001b[0m\n",
            "\u001b[?25hRequirement already satisfied: matplotlib in /usr/local/lib/python3.10/dist-packages (from lingam) (3.7.1)\n",
            "Collecting psy (from lingam)\n",
            "  Downloading psy-0.0.1-py2.py3-none-any.whl (38 kB)\n",
            "Collecting semopy (from lingam)\n",
            "  Downloading semopy-2.3.11.tar.gz (1.6 MB)\n",
            "\u001b[2K     \u001b[90m━━━━━━━━━━━━━━━━━━━━━━━━━━━━━━━━━━━━━━━━\u001b[0m \u001b[32m1.6/1.6 MB\u001b[0m \u001b[31m10.1 MB/s\u001b[0m eta \u001b[36m0:00:00\u001b[0m\n",
            "\u001b[?25h  Preparing metadata (setup.py) ... \u001b[?25l\u001b[?25hdone\n",
            "Requirement already satisfied: contourpy>=1.0.1 in /usr/local/lib/python3.10/dist-packages (from matplotlib->lingam) (1.2.1)\n",
            "Requirement already satisfied: cycler>=0.10 in /usr/local/lib/python3.10/dist-packages (from matplotlib->lingam) (0.12.1)\n",
            "Requirement already satisfied: fonttools>=4.22.0 in /usr/local/lib/python3.10/dist-packages (from matplotlib->lingam) (4.53.1)\n",
            "Requirement already satisfied: kiwisolver>=1.0.1 in /usr/local/lib/python3.10/dist-packages (from matplotlib->lingam) (1.4.5)\n",
            "Requirement already satisfied: packaging>=20.0 in /usr/local/lib/python3.10/dist-packages (from matplotlib->lingam) (24.1)\n",
            "Requirement already satisfied: pillow>=6.2.0 in /usr/local/lib/python3.10/dist-packages (from matplotlib->lingam) (9.4.0)\n",
            "Requirement already satisfied: pyparsing>=2.3.1 in /usr/local/lib/python3.10/dist-packages (from matplotlib->lingam) (3.1.2)\n",
            "Requirement already satisfied: python-dateutil>=2.7 in /usr/local/lib/python3.10/dist-packages (from matplotlib->lingam) (2.8.2)\n",
            "Requirement already satisfied: pytz>=2020.1 in /usr/local/lib/python3.10/dist-packages (from pandas->lingam) (2023.4)\n",
            "Requirement already satisfied: tzdata>=2022.1 in /usr/local/lib/python3.10/dist-packages (from pandas->lingam) (2024.1)\n",
            "Requirement already satisfied: progressbar2 in /usr/local/lib/python3.10/dist-packages (from psy->lingam) (4.2.0)\n",
            "Requirement already satisfied: joblib>=1.1.1 in /usr/local/lib/python3.10/dist-packages (from scikit-learn->lingam) (1.4.2)\n",
            "Requirement already satisfied: threadpoolctl>=2.0.0 in /usr/local/lib/python3.10/dist-packages (from scikit-learn->lingam) (3.5.0)\n",
            "Requirement already satisfied: sympy in /usr/local/lib/python3.10/dist-packages (from semopy->lingam) (1.13.0)\n",
            "Collecting numdifftools (from semopy->lingam)\n",
            "  Downloading numdifftools-0.9.41-py2.py3-none-any.whl (100 kB)\n",
            "\u001b[2K     \u001b[90m━━━━━━━━━━━━━━━━━━━━━━━━━━━━━━━━━━━━━━━━\u001b[0m \u001b[32m100.2/100.2 kB\u001b[0m \u001b[31m7.7 MB/s\u001b[0m eta \u001b[36m0:00:00\u001b[0m\n",
            "\u001b[?25hRequirement already satisfied: patsy>=0.5.6 in /usr/local/lib/python3.10/dist-packages (from statsmodels->lingam) (0.5.6)\n",
            "Requirement already satisfied: six in /usr/local/lib/python3.10/dist-packages (from patsy>=0.5.6->statsmodels->lingam) (1.16.0)\n",
            "Requirement already satisfied: python-utils>=3.0.0 in /usr/local/lib/python3.10/dist-packages (from progressbar2->psy->lingam) (3.8.2)\n",
            "Requirement already satisfied: mpmath<1.4,>=1.1.0 in /usr/local/lib/python3.10/dist-packages (from sympy->semopy->lingam) (1.3.0)\n",
            "Requirement already satisfied: typing-extensions>3.10.0.2 in /usr/local/lib/python3.10/dist-packages (from python-utils>=3.0.0->progressbar2->psy->lingam) (4.12.2)\n",
            "Building wheels for collected packages: semopy\n",
            "  Building wheel for semopy (setup.py) ... \u001b[?25l\u001b[?25hdone\n",
            "  Created wheel for semopy: filename=semopy-2.3.11-py3-none-any.whl size=1659681 sha256=db2050f7b9dd87798f7913c9bc73fd848f72d1ea2e1e6a74581478806dd6a08b\n",
            "  Stored in directory: /root/.cache/pip/wheels/53/ec/0d/0b294c02d8c4e9e80afea58839f2c1b4706770594bc99ec045\n",
            "Successfully built semopy\n",
            "Installing collected packages: numdifftools, pygam, psy, semopy, lingam\n",
            "Successfully installed lingam-1.9.0 numdifftools-0.9.41 psy-0.0.1 pygam-0.9.1 semopy-2.3.11\n",
            "Requirement already satisfied: graphviz in /usr/local/lib/python3.10/dist-packages (0.20.3)\n"
          ]
        }
      ],
      "source": [
        "!pip install lingam\n",
        "!pip install graphviz"
      ]
    },
    {
      "cell_type": "markdown",
      "source": [
        "Import libraries"
      ],
      "metadata": {
        "id": "wnGMM9W4cmZQ"
      }
    },
    {
      "cell_type": "code",
      "source": [
        "import numpy as np\n",
        "import pandas as pd\n",
        "import graphviz\n",
        "import lingam\n",
        "from lingam.utils import make_dot\n",
        "import warnings\n",
        "warnings.filterwarnings(\"ignore\")"
      ],
      "metadata": {
        "id": "woD0sdG9a80K"
      },
      "execution_count": null,
      "outputs": []
    },
    {
      "cell_type": "markdown",
      "source": [
        "Generate Test Data"
      ],
      "metadata": {
        "id": "VUU-B78ir5XG"
      }
    },
    {
      "cell_type": "code",
      "source": [
        "x3 = np.random.uniform(size=1000)\n",
        "x0 = 2.0*x3 + np.random.uniform(size=1000)\n",
        "x2 = 5.0*x3 + np.random.uniform(size=1000)\n",
        "x1 = 3.0*x0 + 2.0*x2 + np.random.uniform(size=1000)\n",
        "x5 = 8.0*x0 + np.random.uniform(size=1000)\n",
        "x4 = 7.0*x0 - 1.0*x2 + np.random.uniform(size=1000)\n",
        "X = pd.DataFrame(np.array([x0, x1, x2, x3, x4, x5]).T ,columns=['x0', 'x1', 'x2', 'x3', 'x4', 'x5'])\n",
        "X.head()"
      ],
      "metadata": {
        "colab": {
          "base_uri": "https://localhost:8080/",
          "height": 206
        },
        "id": "4woq04Pzrz6X",
        "outputId": "5b20f65a-3887-4d0f-9500-fce7a1ab19a1"
      },
      "execution_count": null,
      "outputs": [
        {
          "output_type": "execute_result",
          "data": {
            "text/plain": [
              "         x0         x1        x2        x3         x4         x5\n",
              "0  0.410188   3.553836  1.030913  0.156306   1.851689   3.908187\n",
              "1  0.996132   5.419388  1.030207  0.006269   6.017817   8.394454\n",
              "2  0.801618   7.730314  2.211177  0.308393   4.095876   7.025224\n",
              "3  2.809775  18.699282  4.972661  0.952139  14.838345  23.310554\n",
              "4  2.313442  16.722486  4.655697  0.747766  11.604718  19.350476"
            ],
            "text/html": [
              "\n",
              "  <div id=\"df-d4c3cbf6-3d71-4807-96f7-45fdebe25f03\" class=\"colab-df-container\">\n",
              "    <div>\n",
              "<style scoped>\n",
              "    .dataframe tbody tr th:only-of-type {\n",
              "        vertical-align: middle;\n",
              "    }\n",
              "\n",
              "    .dataframe tbody tr th {\n",
              "        vertical-align: top;\n",
              "    }\n",
              "\n",
              "    .dataframe thead th {\n",
              "        text-align: right;\n",
              "    }\n",
              "</style>\n",
              "<table border=\"1\" class=\"dataframe\">\n",
              "  <thead>\n",
              "    <tr style=\"text-align: right;\">\n",
              "      <th></th>\n",
              "      <th>x0</th>\n",
              "      <th>x1</th>\n",
              "      <th>x2</th>\n",
              "      <th>x3</th>\n",
              "      <th>x4</th>\n",
              "      <th>x5</th>\n",
              "    </tr>\n",
              "  </thead>\n",
              "  <tbody>\n",
              "    <tr>\n",
              "      <th>0</th>\n",
              "      <td>0.410188</td>\n",
              "      <td>3.553836</td>\n",
              "      <td>1.030913</td>\n",
              "      <td>0.156306</td>\n",
              "      <td>1.851689</td>\n",
              "      <td>3.908187</td>\n",
              "    </tr>\n",
              "    <tr>\n",
              "      <th>1</th>\n",
              "      <td>0.996132</td>\n",
              "      <td>5.419388</td>\n",
              "      <td>1.030207</td>\n",
              "      <td>0.006269</td>\n",
              "      <td>6.017817</td>\n",
              "      <td>8.394454</td>\n",
              "    </tr>\n",
              "    <tr>\n",
              "      <th>2</th>\n",
              "      <td>0.801618</td>\n",
              "      <td>7.730314</td>\n",
              "      <td>2.211177</td>\n",
              "      <td>0.308393</td>\n",
              "      <td>4.095876</td>\n",
              "      <td>7.025224</td>\n",
              "    </tr>\n",
              "    <tr>\n",
              "      <th>3</th>\n",
              "      <td>2.809775</td>\n",
              "      <td>18.699282</td>\n",
              "      <td>4.972661</td>\n",
              "      <td>0.952139</td>\n",
              "      <td>14.838345</td>\n",
              "      <td>23.310554</td>\n",
              "    </tr>\n",
              "    <tr>\n",
              "      <th>4</th>\n",
              "      <td>2.313442</td>\n",
              "      <td>16.722486</td>\n",
              "      <td>4.655697</td>\n",
              "      <td>0.747766</td>\n",
              "      <td>11.604718</td>\n",
              "      <td>19.350476</td>\n",
              "    </tr>\n",
              "  </tbody>\n",
              "</table>\n",
              "</div>\n",
              "    <div class=\"colab-df-buttons\">\n",
              "\n",
              "  <div class=\"colab-df-container\">\n",
              "    <button class=\"colab-df-convert\" onclick=\"convertToInteractive('df-d4c3cbf6-3d71-4807-96f7-45fdebe25f03')\"\n",
              "            title=\"Convert this dataframe to an interactive table.\"\n",
              "            style=\"display:none;\">\n",
              "\n",
              "  <svg xmlns=\"http://www.w3.org/2000/svg\" height=\"24px\" viewBox=\"0 -960 960 960\">\n",
              "    <path d=\"M120-120v-720h720v720H120Zm60-500h600v-160H180v160Zm220 220h160v-160H400v160Zm0 220h160v-160H400v160ZM180-400h160v-160H180v160Zm440 0h160v-160H620v160ZM180-180h160v-160H180v160Zm440 0h160v-160H620v160Z\"/>\n",
              "  </svg>\n",
              "    </button>\n",
              "\n",
              "  <style>\n",
              "    .colab-df-container {\n",
              "      display:flex;\n",
              "      gap: 12px;\n",
              "    }\n",
              "\n",
              "    .colab-df-convert {\n",
              "      background-color: #E8F0FE;\n",
              "      border: none;\n",
              "      border-radius: 50%;\n",
              "      cursor: pointer;\n",
              "      display: none;\n",
              "      fill: #1967D2;\n",
              "      height: 32px;\n",
              "      padding: 0 0 0 0;\n",
              "      width: 32px;\n",
              "    }\n",
              "\n",
              "    .colab-df-convert:hover {\n",
              "      background-color: #E2EBFA;\n",
              "      box-shadow: 0px 1px 2px rgba(60, 64, 67, 0.3), 0px 1px 3px 1px rgba(60, 64, 67, 0.15);\n",
              "      fill: #174EA6;\n",
              "    }\n",
              "\n",
              "    .colab-df-buttons div {\n",
              "      margin-bottom: 4px;\n",
              "    }\n",
              "\n",
              "    [theme=dark] .colab-df-convert {\n",
              "      background-color: #3B4455;\n",
              "      fill: #D2E3FC;\n",
              "    }\n",
              "\n",
              "    [theme=dark] .colab-df-convert:hover {\n",
              "      background-color: #434B5C;\n",
              "      box-shadow: 0px 1px 3px 1px rgba(0, 0, 0, 0.15);\n",
              "      filter: drop-shadow(0px 1px 2px rgba(0, 0, 0, 0.3));\n",
              "      fill: #FFFFFF;\n",
              "    }\n",
              "  </style>\n",
              "\n",
              "    <script>\n",
              "      const buttonEl =\n",
              "        document.querySelector('#df-d4c3cbf6-3d71-4807-96f7-45fdebe25f03 button.colab-df-convert');\n",
              "      buttonEl.style.display =\n",
              "        google.colab.kernel.accessAllowed ? 'block' : 'none';\n",
              "\n",
              "      async function convertToInteractive(key) {\n",
              "        const element = document.querySelector('#df-d4c3cbf6-3d71-4807-96f7-45fdebe25f03');\n",
              "        const dataTable =\n",
              "          await google.colab.kernel.invokeFunction('convertToInteractive',\n",
              "                                                    [key], {});\n",
              "        if (!dataTable) return;\n",
              "\n",
              "        const docLinkHtml = 'Like what you see? Visit the ' +\n",
              "          '<a target=\"_blank\" href=https://colab.research.google.com/notebooks/data_table.ipynb>data table notebook</a>'\n",
              "          + ' to learn more about interactive tables.';\n",
              "        element.innerHTML = '';\n",
              "        dataTable['output_type'] = 'display_data';\n",
              "        await google.colab.output.renderOutput(dataTable, element);\n",
              "        const docLink = document.createElement('div');\n",
              "        docLink.innerHTML = docLinkHtml;\n",
              "        element.appendChild(docLink);\n",
              "      }\n",
              "    </script>\n",
              "  </div>\n",
              "\n",
              "\n",
              "<div id=\"df-70dba435-9e0d-4a3f-8259-aa3feb52c13f\">\n",
              "  <button class=\"colab-df-quickchart\" onclick=\"quickchart('df-70dba435-9e0d-4a3f-8259-aa3feb52c13f')\"\n",
              "            title=\"Suggest charts\"\n",
              "            style=\"display:none;\">\n",
              "\n",
              "<svg xmlns=\"http://www.w3.org/2000/svg\" height=\"24px\"viewBox=\"0 0 24 24\"\n",
              "     width=\"24px\">\n",
              "    <g>\n",
              "        <path d=\"M19 3H5c-1.1 0-2 .9-2 2v14c0 1.1.9 2 2 2h14c1.1 0 2-.9 2-2V5c0-1.1-.9-2-2-2zM9 17H7v-7h2v7zm4 0h-2V7h2v10zm4 0h-2v-4h2v4z\"/>\n",
              "    </g>\n",
              "</svg>\n",
              "  </button>\n",
              "\n",
              "<style>\n",
              "  .colab-df-quickchart {\n",
              "      --bg-color: #E8F0FE;\n",
              "      --fill-color: #1967D2;\n",
              "      --hover-bg-color: #E2EBFA;\n",
              "      --hover-fill-color: #174EA6;\n",
              "      --disabled-fill-color: #AAA;\n",
              "      --disabled-bg-color: #DDD;\n",
              "  }\n",
              "\n",
              "  [theme=dark] .colab-df-quickchart {\n",
              "      --bg-color: #3B4455;\n",
              "      --fill-color: #D2E3FC;\n",
              "      --hover-bg-color: #434B5C;\n",
              "      --hover-fill-color: #FFFFFF;\n",
              "      --disabled-bg-color: #3B4455;\n",
              "      --disabled-fill-color: #666;\n",
              "  }\n",
              "\n",
              "  .colab-df-quickchart {\n",
              "    background-color: var(--bg-color);\n",
              "    border: none;\n",
              "    border-radius: 50%;\n",
              "    cursor: pointer;\n",
              "    display: none;\n",
              "    fill: var(--fill-color);\n",
              "    height: 32px;\n",
              "    padding: 0;\n",
              "    width: 32px;\n",
              "  }\n",
              "\n",
              "  .colab-df-quickchart:hover {\n",
              "    background-color: var(--hover-bg-color);\n",
              "    box-shadow: 0 1px 2px rgba(60, 64, 67, 0.3), 0 1px 3px 1px rgba(60, 64, 67, 0.15);\n",
              "    fill: var(--button-hover-fill-color);\n",
              "  }\n",
              "\n",
              "  .colab-df-quickchart-complete:disabled,\n",
              "  .colab-df-quickchart-complete:disabled:hover {\n",
              "    background-color: var(--disabled-bg-color);\n",
              "    fill: var(--disabled-fill-color);\n",
              "    box-shadow: none;\n",
              "  }\n",
              "\n",
              "  .colab-df-spinner {\n",
              "    border: 2px solid var(--fill-color);\n",
              "    border-color: transparent;\n",
              "    border-bottom-color: var(--fill-color);\n",
              "    animation:\n",
              "      spin 1s steps(1) infinite;\n",
              "  }\n",
              "\n",
              "  @keyframes spin {\n",
              "    0% {\n",
              "      border-color: transparent;\n",
              "      border-bottom-color: var(--fill-color);\n",
              "      border-left-color: var(--fill-color);\n",
              "    }\n",
              "    20% {\n",
              "      border-color: transparent;\n",
              "      border-left-color: var(--fill-color);\n",
              "      border-top-color: var(--fill-color);\n",
              "    }\n",
              "    30% {\n",
              "      border-color: transparent;\n",
              "      border-left-color: var(--fill-color);\n",
              "      border-top-color: var(--fill-color);\n",
              "      border-right-color: var(--fill-color);\n",
              "    }\n",
              "    40% {\n",
              "      border-color: transparent;\n",
              "      border-right-color: var(--fill-color);\n",
              "      border-top-color: var(--fill-color);\n",
              "    }\n",
              "    60% {\n",
              "      border-color: transparent;\n",
              "      border-right-color: var(--fill-color);\n",
              "    }\n",
              "    80% {\n",
              "      border-color: transparent;\n",
              "      border-right-color: var(--fill-color);\n",
              "      border-bottom-color: var(--fill-color);\n",
              "    }\n",
              "    90% {\n",
              "      border-color: transparent;\n",
              "      border-bottom-color: var(--fill-color);\n",
              "    }\n",
              "  }\n",
              "</style>\n",
              "\n",
              "  <script>\n",
              "    async function quickchart(key) {\n",
              "      const quickchartButtonEl =\n",
              "        document.querySelector('#' + key + ' button');\n",
              "      quickchartButtonEl.disabled = true;  // To prevent multiple clicks.\n",
              "      quickchartButtonEl.classList.add('colab-df-spinner');\n",
              "      try {\n",
              "        const charts = await google.colab.kernel.invokeFunction(\n",
              "            'suggestCharts', [key], {});\n",
              "      } catch (error) {\n",
              "        console.error('Error during call to suggestCharts:', error);\n",
              "      }\n",
              "      quickchartButtonEl.classList.remove('colab-df-spinner');\n",
              "      quickchartButtonEl.classList.add('colab-df-quickchart-complete');\n",
              "    }\n",
              "    (() => {\n",
              "      let quickchartButtonEl =\n",
              "        document.querySelector('#df-70dba435-9e0d-4a3f-8259-aa3feb52c13f button');\n",
              "      quickchartButtonEl.style.display =\n",
              "        google.colab.kernel.accessAllowed ? 'block' : 'none';\n",
              "    })();\n",
              "  </script>\n",
              "</div>\n",
              "\n",
              "    </div>\n",
              "  </div>\n"
            ],
            "application/vnd.google.colaboratory.intrinsic+json": {
              "type": "dataframe",
              "variable_name": "X",
              "summary": "{\n  \"name\": \"X\",\n  \"rows\": 1000,\n  \"fields\": [\n    {\n      \"column\": \"x0\",\n      \"properties\": {\n        \"dtype\": \"number\",\n        \"std\": 0.649066476687046,\n        \"min\": 0.08670252307881188,\n        \"max\": 2.924700779678042,\n        \"num_unique_values\": 1000,\n        \"samples\": [\n          0.862846289183526,\n          1.8941219400212477,\n          1.2571129947677253\n        ],\n        \"semantic_type\": \"\",\n        \"description\": \"\"\n      }\n    },\n    {\n      \"column\": \"x1\",\n      \"properties\": {\n        \"dtype\": \"number\",\n        \"std\": 4.765998114199888,\n        \"min\": 1.632814018785349,\n        \"max\": 20.890094552666802,\n        \"num_unique_values\": 1000,\n        \"samples\": [\n          5.001426292967387,\n          11.763700793219336,\n          11.156818589659245\n        ],\n        \"semantic_type\": \"\",\n        \"description\": \"\"\n      }\n    },\n    {\n      \"column\": \"x2\",\n      \"properties\": {\n        \"dtype\": \"number\",\n        \"std\": 1.47428862878596,\n        \"min\": 0.11767272409218865,\n        \"max\": 5.9435551023612385,\n        \"num_unique_values\": 1000,\n        \"samples\": [\n          0.9796445294455246,\n          2.6457449017860757,\n          3.3588844328305947\n        ],\n        \"semantic_type\": \"\",\n        \"description\": \"\"\n      }\n    },\n    {\n      \"column\": \"x3\",\n      \"properties\": {\n        \"dtype\": \"number\",\n        \"std\": 0.2897345071187502,\n        \"min\": 0.000627843593508981,\n        \"max\": 0.999310352118554,\n        \"num_unique_values\": 1000,\n        \"samples\": [\n          0.033325356912641935,\n          0.4882480376715925,\n          0.5870283926985606\n        ],\n        \"semantic_type\": \"\",\n        \"description\": \"\"\n      }\n    },\n    {\n      \"column\": \"x4\",\n      \"properties\": {\n        \"dtype\": \"number\",\n        \"std\": 3.3405757586376614,\n        \"min\": 0.2506103760809264,\n        \"max\": 15.820178524812837,\n        \"num_unique_values\": 1000,\n        \"samples\": [\n          5.274938881228221,\n          10.937788539521915,\n          5.896664818430527\n        ],\n        \"semantic_type\": \"\",\n        \"description\": \"\"\n      }\n    },\n    {\n      \"column\": \"x5\",\n      \"properties\": {\n        \"dtype\": \"number\",\n        \"std\": 5.195926848969178,\n        \"min\": 0.9928519050856605,\n        \"max\": 24.383983743819442,\n        \"num_unique_values\": 1000,\n        \"samples\": [\n          6.925936701214957,\n          15.282698897377216,\n          10.975752857270768\n        ],\n        \"semantic_type\": \"\",\n        \"description\": \"\"\n      }\n    }\n  ]\n}"
            }
          },
          "metadata": {},
          "execution_count": 5
        }
      ]
    },
    {
      "cell_type": "markdown",
      "source": [
        "Create a DAG based on some previous knowledge"
      ],
      "metadata": {
        "id": "e0Pvn9EdsFyR"
      }
    },
    {
      "cell_type": "code",
      "source": [
        "m = np.array([[0.0, 0.0, 0.0, -1.0, 0.0, 0.0],\n",
        "              [3.0, 0.0, 2.0, 0.0, 0.0, 0.0],\n",
        "              [0.0, 0.0, 0.0, 6.0, 0.0, 0.0],\n",
        "              [0.0, 0.0, 0.0, 0.0, 0.0, 0.0],\n",
        "              [8.0, 0.0, 2.0, 0.0, 0.0, 0.0],\n",
        "              [6.0, 0.0, 0.0, 0.0, 0.0, 0.0]])\n",
        "\n",
        "dot = make_dot(m)\n",
        "\n",
        "# Save pdf\n",
        "dot.render('dag')\n",
        "\n",
        "# Save png\n",
        "dot.format = 'png'\n",
        "dot.render('dag')\n",
        "\n",
        "dot"
      ],
      "metadata": {
        "colab": {
          "base_uri": "https://localhost:8080/",
          "height": 312
        },
        "id": "8bJdZaJ0sQcV",
        "outputId": "5261cac6-da94-47d1-eead-a4aa2be6c577"
      },
      "execution_count": null,
      "outputs": [
        {
          "output_type": "execute_result",
          "data": {
            "image/svg+xml": "<?xml version=\"1.0\" encoding=\"UTF-8\" standalone=\"no\"?>\n<!DOCTYPE svg PUBLIC \"-//W3C//DTD SVG 1.1//EN\"\n \"http://www.w3.org/Graphics/SVG/1.1/DTD/svg11.dtd\">\n<!-- Generated by graphviz version 2.43.0 (0)\n -->\n<!-- Title: %3 Pages: 1 -->\n<svg width=\"242pt\" height=\"218pt\"\n viewBox=\"0.00 0.00 242.00 218.00\" xmlns=\"http://www.w3.org/2000/svg\" xmlns:xlink=\"http://www.w3.org/1999/xlink\">\n<g id=\"graph0\" class=\"graph\" transform=\"scale(1 1) rotate(0) translate(4 214)\">\n<title>%3</title>\n<polygon fill=\"white\" stroke=\"transparent\" points=\"-4,4 -4,-214 238,-214 238,4 -4,4\"/>\n<!-- x0 -->\n<g id=\"node1\" class=\"node\">\n<title>x0</title>\n<ellipse fill=\"none\" stroke=\"black\" cx=\"147\" cy=\"-105\" rx=\"27\" ry=\"18\"/>\n<text text-anchor=\"middle\" x=\"147\" y=\"-101.3\" font-family=\"Times,serif\" font-size=\"14.00\">x0</text>\n</g>\n<!-- x1 -->\n<g id=\"node2\" class=\"node\">\n<title>x1</title>\n<ellipse fill=\"none\" stroke=\"black\" cx=\"123\" cy=\"-18\" rx=\"27\" ry=\"18\"/>\n<text text-anchor=\"middle\" x=\"123\" y=\"-14.3\" font-family=\"Times,serif\" font-size=\"14.00\">x1</text>\n</g>\n<!-- x0&#45;&gt;x1 -->\n<g id=\"edge2\" class=\"edge\">\n<title>x0&#45;&gt;x1</title>\n<path fill=\"none\" stroke=\"black\" d=\"M144.34,-86.69C142.65,-76.97 140.18,-64.69 137,-54 136.11,-51.02 135.08,-47.95 133.97,-44.91\"/>\n<polygon fill=\"black\" stroke=\"black\" points=\"137.21,-43.57 130.33,-35.51 130.68,-46.1 137.21,-43.57\"/>\n<text text-anchor=\"middle\" x=\"152.5\" y=\"-57.8\" font-family=\"Times,serif\" font-size=\"14.00\">3.00</text>\n</g>\n<!-- x4 -->\n<g id=\"node5\" class=\"node\">\n<title>x4</title>\n<ellipse fill=\"none\" stroke=\"black\" cx=\"27\" cy=\"-18\" rx=\"27\" ry=\"18\"/>\n<text text-anchor=\"middle\" x=\"27\" y=\"-14.3\" font-family=\"Times,serif\" font-size=\"14.00\">x4</text>\n</g>\n<!-- x0&#45;&gt;x4 -->\n<g id=\"edge5\" class=\"edge\">\n<title>x0&#45;&gt;x4</title>\n<path fill=\"none\" stroke=\"black\" d=\"M131.52,-90.04C117.42,-77.45 97.54,-60 89,-54 78.91,-46.91 67.27,-40.03 56.82,-34.27\"/>\n<polygon fill=\"black\" stroke=\"black\" points=\"58.47,-31.19 48.01,-29.52 55.15,-37.35 58.47,-31.19\"/>\n<text text-anchor=\"middle\" x=\"118.5\" y=\"-57.8\" font-family=\"Times,serif\" font-size=\"14.00\">8.00</text>\n</g>\n<!-- x5 -->\n<g id=\"node6\" class=\"node\">\n<title>x5</title>\n<ellipse fill=\"none\" stroke=\"black\" cx=\"207\" cy=\"-18\" rx=\"27\" ry=\"18\"/>\n<text text-anchor=\"middle\" x=\"207\" y=\"-14.3\" font-family=\"Times,serif\" font-size=\"14.00\">x5</text>\n</g>\n<!-- x0&#45;&gt;x5 -->\n<g id=\"edge7\" class=\"edge\">\n<title>x0&#45;&gt;x5</title>\n<path fill=\"none\" stroke=\"black\" d=\"M158,-88.41C166.97,-75.71 179.78,-57.56 190.05,-43.01\"/>\n<polygon fill=\"black\" stroke=\"black\" points=\"193.16,-44.68 196.06,-34.49 187.44,-40.64 193.16,-44.68\"/>\n<text text-anchor=\"middle\" x=\"192.5\" y=\"-57.8\" font-family=\"Times,serif\" font-size=\"14.00\">6.00</text>\n</g>\n<!-- x2 -->\n<g id=\"node3\" class=\"node\">\n<title>x2</title>\n<ellipse fill=\"none\" stroke=\"black\" cx=\"63\" cy=\"-105\" rx=\"27\" ry=\"18\"/>\n<text text-anchor=\"middle\" x=\"63\" y=\"-101.3\" font-family=\"Times,serif\" font-size=\"14.00\">x2</text>\n</g>\n<!-- x2&#45;&gt;x1 -->\n<g id=\"edge3\" class=\"edge\">\n<title>x2&#45;&gt;x1</title>\n<path fill=\"none\" stroke=\"black\" d=\"M59.41,-87.14C58.14,-76.89 58.23,-63.9 64,-54 69.88,-43.92 79.9,-36.42 90.03,-31.02\"/>\n<polygon fill=\"black\" stroke=\"black\" points=\"91.74,-34.08 99.26,-26.62 88.72,-27.76 91.74,-34.08\"/>\n<text text-anchor=\"middle\" x=\"76.5\" y=\"-57.8\" font-family=\"Times,serif\" font-size=\"14.00\">2.00</text>\n</g>\n<!-- x2&#45;&gt;x4 -->\n<g id=\"edge6\" class=\"edge\">\n<title>x2&#45;&gt;x4</title>\n<path fill=\"none\" stroke=\"black\" d=\"M41.45,-93.81C31.79,-88 21.39,-79.73 16,-69 12.3,-61.63 12.73,-53.03 14.78,-45.06\"/>\n<polygon fill=\"black\" stroke=\"black\" points=\"18.14,-46.04 18.05,-35.45 11.51,-43.79 18.14,-46.04\"/>\n<text text-anchor=\"middle\" x=\"28.5\" y=\"-57.8\" font-family=\"Times,serif\" font-size=\"14.00\">2.00</text>\n</g>\n<!-- x3 -->\n<g id=\"node4\" class=\"node\">\n<title>x3</title>\n<ellipse fill=\"none\" stroke=\"black\" cx=\"99\" cy=\"-192\" rx=\"27\" ry=\"18\"/>\n<text text-anchor=\"middle\" x=\"99\" y=\"-188.3\" font-family=\"Times,serif\" font-size=\"14.00\">x3</text>\n</g>\n<!-- x3&#45;&gt;x0 -->\n<g id=\"edge1\" class=\"edge\">\n<title>x3&#45;&gt;x0</title>\n<path fill=\"none\" stroke=\"black\" d=\"M108.03,-175.01C115.02,-162.63 124.84,-145.23 132.88,-131.01\"/>\n<polygon fill=\"black\" stroke=\"black\" points=\"135.98,-132.63 137.85,-122.21 129.88,-129.19 135.98,-132.63\"/>\n<text text-anchor=\"middle\" x=\"139.5\" y=\"-144.8\" font-family=\"Times,serif\" font-size=\"14.00\">&#45;1.00</text>\n</g>\n<!-- x3&#45;&gt;x2 -->\n<g id=\"edge4\" class=\"edge\">\n<title>x3&#45;&gt;x2</title>\n<path fill=\"none\" stroke=\"black\" d=\"M90.74,-174.76C87.86,-168.9 84.68,-162.2 82,-156 78.72,-148.41 75.43,-140.06 72.52,-132.39\"/>\n<polygon fill=\"black\" stroke=\"black\" points=\"75.73,-130.97 68.97,-122.82 69.17,-133.41 75.73,-130.97\"/>\n<text text-anchor=\"middle\" x=\"94.5\" y=\"-144.8\" font-family=\"Times,serif\" font-size=\"14.00\">6.00</text>\n</g>\n</g>\n</svg>\n",
            "text/plain": [
              "<graphviz.graphs.Digraph at 0x7845f0c25de0>"
            ]
          },
          "metadata": {},
          "execution_count": 6
        }
      ]
    },
    {
      "cell_type": "markdown",
      "source": [
        "## Causal Discovery with LiNGAM"
      ],
      "metadata": {
        "id": "f-Nmm3-rsiMu"
      }
    },
    {
      "cell_type": "code",
      "source": [
        "model = lingam.DirectLiNGAM()\n",
        "model.fit(X)"
      ],
      "metadata": {
        "colab": {
          "base_uri": "https://localhost:8080/"
        },
        "id": "GA_2jIEksbwN",
        "outputId": "8c4505eb-880f-4c01-883b-d6baae62aeaf"
      },
      "execution_count": null,
      "outputs": [
        {
          "output_type": "execute_result",
          "data": {
            "text/plain": [
              "<lingam.direct_lingam.DirectLiNGAM at 0x7845f0c24280>"
            ]
          },
          "metadata": {},
          "execution_count": 7
        }
      ]
    },
    {
      "cell_type": "markdown",
      "source": [
        "## Print out the adjacency matrix"
      ],
      "metadata": {
        "id": "s4rIt6l5z4gN"
      }
    },
    {
      "cell_type": "code",
      "source": [
        "model.adjacency_matrix_"
      ],
      "metadata": {
        "colab": {
          "base_uri": "https://localhost:8080/"
        },
        "id": "mVRvokfwsv5J",
        "outputId": "e797ef27-120c-48f7-f58a-88b59d1a64ad"
      },
      "execution_count": null,
      "outputs": [
        {
          "output_type": "execute_result",
          "data": {
            "text/plain": [
              "array([[ 0.        ,  0.        ,  0.        ,  1.99957076,  0.        ,\n",
              "         0.        ],\n",
              "       [ 3.04339312,  0.        ,  1.99103819,  0.        ,  0.        ,\n",
              "         0.        ],\n",
              "       [ 0.        ,  0.        ,  0.        ,  4.99263682,  0.        ,\n",
              "         0.        ],\n",
              "       [ 0.        ,  0.        ,  0.        ,  0.        ,  0.        ,\n",
              "         0.        ],\n",
              "       [ 6.95299416,  0.        , -0.98057457,  0.        ,  0.        ,\n",
              "         0.        ],\n",
              "       [ 7.99314462,  0.        ,  0.        ,  0.        ,  0.        ,\n",
              "         0.        ]])"
            ]
          },
          "metadata": {},
          "execution_count": 9
        }
      ]
    },
    {
      "cell_type": "markdown",
      "source": [
        "## Draw the DAG"
      ],
      "metadata": {
        "id": "upbLaQu_s1rx"
      }
    },
    {
      "cell_type": "code",
      "source": [
        "make_dot(model.adjacency_matrix_)"
      ],
      "metadata": {
        "colab": {
          "base_uri": "https://localhost:8080/",
          "height": 312
        },
        "id": "e-_4x5hesyfh",
        "outputId": "75b7574a-9b59-4ee4-f09e-f158f44a59c6"
      },
      "execution_count": null,
      "outputs": [
        {
          "output_type": "execute_result",
          "data": {
            "image/svg+xml": "<?xml version=\"1.0\" encoding=\"UTF-8\" standalone=\"no\"?>\n<!DOCTYPE svg PUBLIC \"-//W3C//DTD SVG 1.1//EN\"\n \"http://www.w3.org/Graphics/SVG/1.1/DTD/svg11.dtd\">\n<!-- Generated by graphviz version 2.43.0 (0)\n -->\n<!-- Title: %3 Pages: 1 -->\n<svg width=\"245pt\" height=\"218pt\"\n viewBox=\"0.00 0.00 245.00 218.00\" xmlns=\"http://www.w3.org/2000/svg\" xmlns:xlink=\"http://www.w3.org/1999/xlink\">\n<g id=\"graph0\" class=\"graph\" transform=\"scale(1 1) rotate(0) translate(4 214)\">\n<title>%3</title>\n<polygon fill=\"white\" stroke=\"transparent\" points=\"-4,4 -4,-214 241,-214 241,4 -4,4\"/>\n<!-- x0 -->\n<g id=\"node1\" class=\"node\">\n<title>x0</title>\n<ellipse fill=\"none\" stroke=\"black\" cx=\"150\" cy=\"-105\" rx=\"27\" ry=\"18\"/>\n<text text-anchor=\"middle\" x=\"150\" y=\"-101.3\" font-family=\"Times,serif\" font-size=\"14.00\">x0</text>\n</g>\n<!-- x1 -->\n<g id=\"node2\" class=\"node\">\n<title>x1</title>\n<ellipse fill=\"none\" stroke=\"black\" cx=\"125\" cy=\"-18\" rx=\"27\" ry=\"18\"/>\n<text text-anchor=\"middle\" x=\"125\" y=\"-14.3\" font-family=\"Times,serif\" font-size=\"14.00\">x1</text>\n</g>\n<!-- x0&#45;&gt;x1 -->\n<g id=\"edge2\" class=\"edge\">\n<title>x0&#45;&gt;x1</title>\n<path fill=\"none\" stroke=\"black\" d=\"M147.44,-86.65C145.78,-76.93 143.31,-64.65 140,-54 139.07,-51 137.97,-47.91 136.79,-44.87\"/>\n<polygon fill=\"black\" stroke=\"black\" points=\"139.96,-43.37 132.89,-35.47 133.49,-46.05 139.96,-43.37\"/>\n<text text-anchor=\"middle\" x=\"155.5\" y=\"-57.8\" font-family=\"Times,serif\" font-size=\"14.00\">3.04</text>\n</g>\n<!-- x4 -->\n<g id=\"node5\" class=\"node\">\n<title>x4</title>\n<ellipse fill=\"none\" stroke=\"black\" cx=\"27\" cy=\"-18\" rx=\"27\" ry=\"18\"/>\n<text text-anchor=\"middle\" x=\"27\" y=\"-14.3\" font-family=\"Times,serif\" font-size=\"14.00\">x4</text>\n</g>\n<!-- x0&#45;&gt;x4 -->\n<g id=\"edge5\" class=\"edge\">\n<title>x0&#45;&gt;x4</title>\n<path fill=\"none\" stroke=\"black\" d=\"M134.54,-90C120.46,-77.38 100.6,-59.92 92,-54 81.19,-46.56 68.64,-39.48 57.46,-33.65\"/>\n<polygon fill=\"black\" stroke=\"black\" points=\"58.96,-30.49 48.46,-29.08 55.79,-36.73 58.96,-30.49\"/>\n<text text-anchor=\"middle\" x=\"121.5\" y=\"-57.8\" font-family=\"Times,serif\" font-size=\"14.00\">6.95</text>\n</g>\n<!-- x5 -->\n<g id=\"node6\" class=\"node\">\n<title>x5</title>\n<ellipse fill=\"none\" stroke=\"black\" cx=\"210\" cy=\"-18\" rx=\"27\" ry=\"18\"/>\n<text text-anchor=\"middle\" x=\"210\" y=\"-14.3\" font-family=\"Times,serif\" font-size=\"14.00\">x5</text>\n</g>\n<!-- x0&#45;&gt;x5 -->\n<g id=\"edge7\" class=\"edge\">\n<title>x0&#45;&gt;x5</title>\n<path fill=\"none\" stroke=\"black\" d=\"M161,-88.41C169.97,-75.71 182.78,-57.56 193.05,-43.01\"/>\n<polygon fill=\"black\" stroke=\"black\" points=\"196.16,-44.68 199.06,-34.49 190.44,-40.64 196.16,-44.68\"/>\n<text text-anchor=\"middle\" x=\"195.5\" y=\"-57.8\" font-family=\"Times,serif\" font-size=\"14.00\">7.99</text>\n</g>\n<!-- x2 -->\n<g id=\"node3\" class=\"node\">\n<title>x2</title>\n<ellipse fill=\"none\" stroke=\"black\" cx=\"66\" cy=\"-105\" rx=\"27\" ry=\"18\"/>\n<text text-anchor=\"middle\" x=\"66\" y=\"-101.3\" font-family=\"Times,serif\" font-size=\"14.00\">x2</text>\n</g>\n<!-- x2&#45;&gt;x1 -->\n<g id=\"edge3\" class=\"edge\">\n<title>x2&#45;&gt;x1</title>\n<path fill=\"none\" stroke=\"black\" d=\"M62.44,-87.16C61.18,-76.91 61.27,-63.92 67,-54 72.72,-44.1 82.46,-36.67 92.35,-31.26\"/>\n<polygon fill=\"black\" stroke=\"black\" points=\"93.91,-34.39 101.35,-26.85 90.83,-28.11 93.91,-34.39\"/>\n<text text-anchor=\"middle\" x=\"79.5\" y=\"-57.8\" font-family=\"Times,serif\" font-size=\"14.00\">1.99</text>\n</g>\n<!-- x2&#45;&gt;x4 -->\n<g id=\"edge6\" class=\"edge\">\n<title>x2&#45;&gt;x4</title>\n<path fill=\"none\" stroke=\"black\" d=\"M43.73,-94.8C32.97,-89.08 21.1,-80.59 15,-69 11.04,-61.48 11.69,-52.63 14.06,-44.48\"/>\n<polygon fill=\"black\" stroke=\"black\" points=\"17.37,-45.62 17.62,-35.03 10.82,-43.15 17.37,-45.62\"/>\n<text text-anchor=\"middle\" x=\"29.5\" y=\"-57.8\" font-family=\"Times,serif\" font-size=\"14.00\">&#45;0.98</text>\n</g>\n<!-- x3 -->\n<g id=\"node4\" class=\"node\">\n<title>x3</title>\n<ellipse fill=\"none\" stroke=\"black\" cx=\"102\" cy=\"-192\" rx=\"27\" ry=\"18\"/>\n<text text-anchor=\"middle\" x=\"102\" y=\"-188.3\" font-family=\"Times,serif\" font-size=\"14.00\">x3</text>\n</g>\n<!-- x3&#45;&gt;x0 -->\n<g id=\"edge1\" class=\"edge\">\n<title>x3&#45;&gt;x0</title>\n<path fill=\"none\" stroke=\"black\" d=\"M111.03,-175.01C118.02,-162.63 127.84,-145.23 135.88,-131.01\"/>\n<polygon fill=\"black\" stroke=\"black\" points=\"138.98,-132.63 140.85,-122.21 132.88,-129.19 138.98,-132.63\"/>\n<text text-anchor=\"middle\" x=\"140.5\" y=\"-144.8\" font-family=\"Times,serif\" font-size=\"14.00\">2.00</text>\n</g>\n<!-- x3&#45;&gt;x2 -->\n<g id=\"edge4\" class=\"edge\">\n<title>x3&#45;&gt;x2</title>\n<path fill=\"none\" stroke=\"black\" d=\"M93.74,-174.76C90.86,-168.9 87.68,-162.2 85,-156 81.72,-148.41 78.43,-140.06 75.52,-132.39\"/>\n<polygon fill=\"black\" stroke=\"black\" points=\"78.73,-130.97 71.97,-122.82 72.17,-133.41 78.73,-130.97\"/>\n<text text-anchor=\"middle\" x=\"97.5\" y=\"-144.8\" font-family=\"Times,serif\" font-size=\"14.00\">4.99</text>\n</g>\n</g>\n</svg>\n",
            "text/plain": [
              "<graphviz.graphs.Digraph at 0x7845f0e28130>"
            ]
          },
          "metadata": {},
          "execution_count": 10
        }
      ]
    },
    {
      "cell_type": "markdown",
      "source": [
        "## We need to ensure the independence of error terms for the validity of the causal inferences made using LiNGAM or other similar methods. If these assumptions fail, then it may lead to biased estimates of causal effects.\n",
        "\n",
        "## A low p-value suggests evidence against the null hypothesis of independence between error terms, indicating that they are likely not dependent."
      ],
      "metadata": {
        "id": "rqqKYUibzFdG"
      }
    },
    {
      "cell_type": "code",
      "source": [
        "p_values = model.get_error_independence_p_values(X)\n",
        "print(p_values)"
      ],
      "metadata": {
        "colab": {
          "base_uri": "https://localhost:8080/"
        },
        "id": "kgdYVl7ys2zH",
        "outputId": "43abbb99-7acd-49ea-ae5f-b74183b5956f"
      },
      "execution_count": null,
      "outputs": [
        {
          "output_type": "stream",
          "name": "stdout",
          "text": [
            "[[0.         0.89545889 0.20788955 0.78121718 0.76157757 0.73726179]\n",
            " [0.89545889 0.         0.47995819 0.54646697 0.45593452 0.73636138]\n",
            " [0.20788955 0.47995819 0.         0.87780001 0.71276492 0.23036665]\n",
            " [0.78121718 0.54646697 0.87780001 0.         0.67003111 0.6857223 ]\n",
            " [0.76157757 0.45593452 0.71276492 0.67003111 0.         0.15152413]\n",
            " [0.73726179 0.73636138 0.23036665 0.6857223  0.15152413 0.        ]]\n"
          ]
        }
      ]
    },
    {
      "cell_type": "code",
      "source": [],
      "metadata": {
        "id": "E9p0rYI6xhRE"
      },
      "execution_count": null,
      "outputs": []
    }
  ]
}